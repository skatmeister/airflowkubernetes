{
  "nbformat": 4,
  "nbformat_minor": 0,
  "metadata": {
    "colab": {
      "provenance": [],
      "authorship_tag": "ABX9TyMXXeVY3QavxngPiFNYqJas",
      "include_colab_link": true
    },
    "kernelspec": {
      "name": "python3",
      "display_name": "Python 3"
    },
    "language_info": {
      "name": "python"
    }
  },
  "cells": [
    {
      "cell_type": "markdown",
      "metadata": {
        "id": "view-in-github",
        "colab_type": "text"
      },
      "source": [
        "<a href=\"https://colab.research.google.com/github/skatmeister/airflowkubernetes/blob/main/gradientdescent.ipynb\" target=\"_parent\"><img src=\"https://colab.research.google.com/assets/colab-badge.svg\" alt=\"Open In Colab\"/></a>"
      ]
    },
    {
      "cell_type": "markdown",
      "source": [
        "Start with a few points than can be fit linearly in some number of dimensions\n",
        "\n",
        "$$\n",
        "y = \\beta_0 + \\beta_1 x_1 + \\beta_2 x_2 \\ldots \n",
        "$$\n"
      ],
      "metadata": {
        "id": "QXNizVcJpc6H"
      }
    },
    {
      "cell_type": "code",
      "execution_count": 8,
      "metadata": {
        "colab": {
          "base_uri": "https://localhost:8080/",
          "height": 435
        },
        "id": "2OjvVZvYKCG5",
        "outputId": "0a44374b-a11e-457a-b073-38b99d8e6363"
      },
      "outputs": [
        {
          "output_type": "display_data",
          "data": {
            "text/plain": [
              "<Figure size 640x480 with 1 Axes>"
            ],
            "image/png": "[encoded data removed]"
          },
          "metadata": {}
        }
      ],
      "source": [
        "import numpy as np\n",
        "import matplotlib.pyplot as plt\n",
        "\n",
        "x=np.array([0.5, 2.3, 1.9])\n",
        "y=np.array([1.4, 1.9, 3.2])\n",
        "\n",
        "plt.scatter(x, y)\n",
        "ax = plt.gca()\n",
        "ax.set_ylim(bottom=0, top=4)\n",
        "ax.set_xlim(left=0, right=4)\n",
        "ax = plt.gca()\n",
        "ax.set_aspect('equal', adjustable='box')\n",
        "plt.show()\n"
      ]
    },
    {
      "cell_type": "markdown",
      "source": [
        "Make an initial guess at a line\n",
        "\n",
        "$$\n",
        "y = .5 + (-.1) x\n",
        "$$\n"
      ],
      "metadata": {
        "id": "WoQFWDecp06B"
      }
    },
    {
      "cell_type": "code",
      "source": [
        "# initial guess at b0 and b1\n",
        "b = np.array([0,x.mean()])\n",
        "# find the endpoints of the line using these \n",
        "xleft  = 0\n",
        "xright = 4\n",
        "ybot = b[0] + b[1] * xleft\n",
        "ytop = b[0] + b[1] * xright\n",
        "plt.scatter(x, y)\n",
        "plt.plot([xleft, xright], [ybot, ytop], color='red')\n",
        "ax = plt.gca()\n",
        "ax.set_ylim(bottom=0, top=4)\n",
        "ax.set_xlim(left=0, right=4)\n",
        "ax = plt.gca()\n",
        "ax.set_aspect('equal', adjustable='box')\n",
        "plt.show()\n"
      ],
      "metadata": {
        "colab": {
          "base_uri": "https://localhost:8080/",
          "height": 435
        },
        "id": "lzvZn99ZqAl6",
        "outputId": "a4fb54bf-93b4-40fc-a053-e6a095cd54bd"
      },
      "execution_count": 9,
      "outputs": [
        {
          "output_type": "display_data",
          "data": {
            "text/plain": [
              "<Figure size 640x480 with 1 Axes>"
            ],
            "image/png": "[encoded data removed]"
          },
          "metadata": {}
        }
      ]
    },
    {
      "cell_type": "markdown",
      "source": [
        "So we have two parameters, $\\beta_0$ and $\\beta_1$\n",
        "\n",
        "The residual error is how far off each estimate from the formula is versus the actual point\n",
        "\n",
        "$$\n",
        "\\epsilon = (Actual - Predicted)\n",
        "$$\n",
        "\n",
        "or, using $y$ for the actual value and $\\hat{y}$ for the predicted value\n",
        "\n",
        "$$\n",
        "\\epsilon = (y - \\hat{y})\n",
        "$$\n",
        "\n",
        "Where the actual point is given from the data, and the predicted point is from the formula, so for\n",
        "\n",
        "$$\n",
        "\\epsilon = (y - (\\beta_0 + \\beta_1 x))\n",
        "$$\n",
        "\n",
        "Since the points are given as $[x_1,y_1], [x_2, y_2], [x_3, y_3]$\n",
        "\n",
        "then the cumulative error is\n",
        "\n",
        "$$\n",
        "\\epsilon = ((y_1 - (\\beta_0 + \\beta_1 x_1)) + ((y_2 - (\\beta_0 + \\beta_1 x_2))\n",
        "+ ((y_3 - (\\beta_0 + \\beta_1 x_3))\n",
        "$$\n",
        "\n",
        "Using summation for the $n=3$ points\n",
        "\n",
        "$$\n",
        "\\epsilon = \\sum_{i=1}^{n=3} (y_i - (\\beta_0 + \\beta_1 x_i))\n",
        "$$\n",
        "\n",
        "The problem with this formulation is that a negative error and a positive error would cancel each other out, so either take the absolute value or square the error. Here the error will be squared because it is easier to take the derivative of $x^2$ than $|x|$\n",
        "\n",
        "$$\n",
        "\\epsilon = \\sum_{i=1}^{n=3} (y_i - (\\beta_0 + \\beta_1 x_i))^2\n",
        "$$\n",
        "\n",
        "Now, for gradient descent, the idea is to use the gradient or slope to correct the errors in $\\beta_0$ and $\\beta_1$\n",
        "\n",
        "The slope of each is the derivative with respect to each parameter. Using the chain rule the derivative of \n",
        "$$\n",
        "(\\text{expression with term})^2\n",
        "$$ \n",
        "is \n",
        "$$\n",
        "2 \\cdot \\text{(expression with term)} \\cdot \\text{derivative (expression with term)}\n",
        "$$\n",
        "\n",
        "So plugging the chain rule for $\\frac{d}{d \\beta_0}$ into this equation\n",
        "\n",
        "$$\n",
        "\\frac{d}{d \\beta_0} (y_i - (\\beta_0 + \\beta_1 x_i))^2 = 2(y_i - (\\beta_0 + \\beta_1 x_i))(-1) = (-2)(y_i - (\\beta_0 + \\beta_1 x_i))\n",
        "$$\n",
        "\n",
        "so the cumulative \"gradient\" error for each point with respect to $\\beta_0$ is\n",
        "\n",
        "$$\n",
        "\\epsilon_{\\beta_0} = \\sum_{i-1}^{n=3} (-2)(y_i - (\\beta_0 + \\beta_1 x_i))\n",
        "$$\n",
        "\n",
        "And instead of just adding the $\\epsilon_{beta_0}$ to the original $\\beta_0$ to get a newew estimate, scale it with a small \"learning rate\" to make small adjustments in the correct direction, and as the slope gets smaller, the adjustments get smaller\n",
        "\n",
        "$$\n",
        "\\beta_{0_{NEW}} = \\beta_{0_{OLD}} - \\epsilon_{beta_0} \\cdot \\text{learning_rate}\n",
        "$$\n",
        "\n",
        "Now using learning_rate=.01 the next guess for an improved $\\beta_0$ is\n",
        "\n",
        "$$\n",
        "\\beta_{0_{NEW}} = \\beta_{0_{OLD}} - \\left( \\sum_{i-1}^{n=3} (-2)(y_i - (\\beta_0 + \\beta_1 x_i)) \\right) \\cdot (.01)\n",
        "$$\n",
        "\n",
        "Repeating the process for $\\beta_1$\n",
        "\n",
        "$$\n",
        "\\frac{d}{d \\beta_1} (y_i - (\\beta_0 + \\beta_1 x_i))^2 = 2(y_i - (\\beta_0 + \\beta_1 x_i))(-x_i) = (-2x_i)(y_i - (\\beta_0 + \\beta_1 x_i))\n",
        "$$\n",
        "\n",
        "And the new guess for $\\beta_{1_{NEW}}$\n",
        "\n",
        "$$\n",
        "\\beta_{1_{NEW}} = \\beta_{1_{OLD}} - \\left( \\sum_{i-1}^{n=3} (-2x_i)(y_i - (\\beta_0 + \\beta_1 x_i)) \\right) \\cdot (.01)\n",
        "$$\n"
      ],
      "metadata": {
        "id": "GYQRe27BsXTQ"
      }
    },
    {
      "cell_type": "code",
      "source": [
        "learning_rate = .1\n",
        "x = np.array([0.5, 2.3, 2.9])\n",
        "y = np.array([1.4, 1.9, 3.2])\n",
        "yhat = b[0] + b[1] * x\n",
        "yhat"
      ],
      "metadata": {
        "colab": {
          "base_uri": "https://localhost:8080/"
        },
        "id": "VvdyJzLC7iml",
        "outputId": "c5d16d57-ec8d-469d-9816-899e9cc90270"
      },
      "execution_count": 10,
      "outputs": [
        {
          "output_type": "execute_result",
          "data": {
            "text/plain": [
              "array([0.78333333, 3.60333333, 4.54333333])"
            ]
          },
          "metadata": {},
          "execution_count": 10
        }
      ]
    },
    {
      "cell_type": "code",
      "source": [
        "residuals = y - yhat\n",
        "residuals"
      ],
      "metadata": {
        "colab": {
          "base_uri": "https://localhost:8080/"
        },
        "id": "9mIsAksdeP7s",
        "outputId": "b3839405-e911-4f22-f7eb-199059d969c2"
      },
      "execution_count": 11,
      "outputs": [
        {
          "output_type": "execute_result",
          "data": {
            "text/plain": [
              "array([ 0.61666667, -1.70333333, -1.34333333])"
            ]
          },
          "metadata": {},
          "execution_count": 11
        }
      ]
    },
    {
      "cell_type": "code",
      "source": [
        "csum = (-2*residuals).sum()\n",
        "csum"
      ],
      "metadata": {
        "colab": {
          "base_uri": "https://localhost:8080/"
        },
        "id": "_Jk5mWwbf92T",
        "outputId": "a9d39c59-2019-41f8-a326-3c500b7fd394"
      },
      "execution_count": 12,
      "outputs": [
        {
          "output_type": "execute_result",
          "data": {
            "text/plain": [
              "4.859999999999996"
            ]
          },
          "metadata": {},
          "execution_count": 12
        }
      ]
    },
    {
      "cell_type": "code",
      "source": [
        "b0 = b[0]\n",
        "b1 = b[1]\n",
        "b0new = b0 - csum * learning_rate\n",
        "b0new"
      ],
      "metadata": {
        "colab": {
          "base_uri": "https://localhost:8080/"
        },
        "id": "JSIkgC8rgIkF",
        "outputId": "46643700-8852-4223-99c4-fd0cbc8e8350"
      },
      "execution_count": 13,
      "outputs": [
        {
          "output_type": "execute_result",
          "data": {
            "text/plain": [
              "-0.4859999999999996"
            ]
          },
          "metadata": {},
          "execution_count": 13
        }
      ]
    },
    {
      "cell_type": "code",
      "source": [
        "b0newnew  = b0new - (-2*(y - (b0new + b1 * x))).sum() * learning_rate\n",
        "b0newnew"
      ],
      "metadata": {
        "colab": {
          "base_uri": "https://localhost:8080/"
        },
        "id": "SPh15BeGvc1P",
        "outputId": "c2e96459-6c00-4c59-92df-34efc094897a"
      },
      "execution_count": 14,
      "outputs": [
        {
          "output_type": "execute_result",
          "data": {
            "text/plain": [
              "-0.6803999999999994"
            ]
          },
          "metadata": {},
          "execution_count": 14
        }
      ]
    },
    {
      "cell_type": "code",
      "source": [
        "b0newnewnew  = b0newnew - (-2*(y - (b0newnew + b1 * x))).sum() * learning_rate\n",
        "b0newnewnew"
      ],
      "metadata": {
        "colab": {
          "base_uri": "https://localhost:8080/"
        },
        "id": "jzyLtdFGwDyC",
        "outputId": "435510d8-a716-4f3e-ec40-9788ae1cae88"
      },
      "execution_count": 15,
      "outputs": [
        {
          "output_type": "execute_result",
          "data": {
            "text/plain": [
              "-0.7581599999999993"
            ]
          },
          "metadata": {},
          "execution_count": 15
        }
      ]
    },
    {
      "cell_type": "code",
      "source": [
        "b1new = b1 - (-2*np.multiply(x, residuals)).sum()*learning_rate\n",
        "b1new"
      ],
      "metadata": {
        "colab": {
          "base_uri": "https://localhost:8080/"
        },
        "id": "p2PAqGSjglmp",
        "outputId": "1120984f-df66-4b82-cc27-1caf5f3ed992"
      },
      "execution_count": 16,
      "outputs": [
        {
          "output_type": "execute_result",
          "data": {
            "text/plain": [
              "0.06566666666666743"
            ]
          },
          "metadata": {},
          "execution_count": 16
        }
      ]
    },
    {
      "cell_type": "code",
      "source": [
        "#\n",
        "learning_rate = .01\n",
        "x = np.array([0.5, 2.3, 2.9])\n",
        "y = np.array([1.4, 1.9, 3.2])\n",
        "# initial guess at b0 and b1\n",
        "b0 = 0\n",
        "b1 = .5\n",
        "# find the endpoints of the line using these \n",
        "x0 = 0\n",
        "x1 = 4\n",
        "y0 = b0 + b1 * x0\n",
        "y1 = b0 + b1 * x1\n",
        "plt.scatter(x, y)\n",
        "plt.plot([x0,x1], [y0, y1])\n",
        "print(f'{b0=} {b1=}')\n",
        "for qq in range(5):\n",
        "  yhat = b0 + b1 * x\n",
        "  residuals = y - yhat\n",
        "  b0slope = -2 * residuals.sum()\n",
        "  b0step = b0slope * learning_rate\n",
        "  b1slope = (-2 * np.multiply(x,residuals)).sum()\n",
        "  b1step = b1slope * learning_rate\n",
        "  print(f'{b0slope=} {b1slope=}')\n",
        "  b0 = b0 - b0step\n",
        "  b1 = b1 - b1step\n",
        "  y0new = b0 + b1 * x0\n",
        "  y1new = b0 + b1 * x1\n",
        "  plt.plot([x0,x1], [y0new, y1new])\n",
        "  print(f'{qq=} {b0=} {b1=}')\n",
        "print(f'{b1=} {b0=}')  \n",
        "ax = plt.gca()\n",
        "ax.set_ylim(bottom=0, top=4)\n",
        "ax.set_xlim(left=0, right=4)\n",
        "ax = plt.gca()\n",
        "ax.set_aspect('equal', adjustable='box')\n",
        "plt.show()"
      ],
      "metadata": {
        "colab": {
          "base_uri": "https://localhost:8080/",
          "height": 643
        },
        "id": "1EBKvmSvgRb-",
        "outputId": "c5536261-e249-4776-9a0e-2f12748e32a7"
      },
      "execution_count": 46,
      "outputs": [
        {
          "output_type": "stream",
          "name": "stdout",
          "text": [
            "b0=0 b1=0.5\n",
            "b0slope=-7.300000000000001 b1slope=-14.75\n",
            "qq=0 b0=0.07300000000000001 b1=0.6475\n",
            "b0slope=-5.180500000000001 b1slope=-9.802550000000004\n",
            "qq=1 b0=0.12480500000000003 b1=0.7455255000000001\n",
            "b0slope=-3.7521793 b1slope=-6.477061550000002\n",
            "qq=2 b0=0.16232679300000002 b1=0.8102961155000001\n",
            "b0slope=-2.7886635252999987 b1slope=-4.242212937349997\n",
            "qq=3 b0=0.19021342825300003 b1=0.8527182448735001\n",
            "b0slope=-2.137731438924098 b1slope=-2.740727885945146\n",
            "qq=4 b0=0.211590742642241 b1=0.8801255237329516\n",
            "b1=0.8801255237329516 b0=0.211590742642241\n"
          ]
        },
        {
          "output_type": "display_data",
          "data": {
            "text/plain": [
              "<Figure size 640x480 with 1 Axes>"
            ],
            "image/png": "[encoded data removed]"
          },
          "metadata": {}
        }
      ]
    },
    {
      "cell_type": "code",
      "source": [
        "# least squares\n",
        "\n",
        "# generate x and y\n",
        "x = np.array([0.5, 2.3, 2.9])\n",
        "y = np.array([1.4, 1.9, 3.2])\n",
        "#x = np.linspace(0, 1, 101)\n",
        "#y = 1 + x + x * np.random.random(len(x))\n",
        "# assemble matrix A\n",
        "A = np.vstack([x, np.ones(len(x))]).T\n",
        "# print(A)\n",
        "# turn y into a column vector\n",
        "y = y[:, np.newaxis]\n",
        "# print(y)\n",
        "# Direct least square regression\n",
        "alpha = np.dot((np.dot(np.linalg.inv(np.dot(A.T,A)),A.T)),y)\n",
        "print(alpha)"
      ],
      "metadata": {
        "colab": {
          "base_uri": "https://localhost:8080/"
        },
        "id": "bSEUPWUB13z3",
        "outputId": "84260d28-8920-47db-d331-7ae7d35f5c0f"
      },
      "execution_count": 18,
      "outputs": [
        {
          "output_type": "stream",
          "name": "stdout",
          "text": [
            "[[0.64102564]\n",
            " [0.94871795]]\n"
          ]
        }
      ]
    },
    {
      "cell_type": "code",
      "source": [
        "x = np.array([0.5, 2.3, 2.9])\n",
        "y = np.array([1.4, 1.9, 3.2])\n",
        "b = np.linalg.lstsq(np.vstack([x, np.ones(len(x))]).T, y, rcond=None)[0]\n",
        "b "
      ],
      "metadata": {
        "colab": {
          "base_uri": "https://localhost:8080/"
        },
        "id": "H061hBN73URo",
        "outputId": "b4ef738c-d961-40bd-aedc-c1379b537cd9"
      },
      "execution_count": 19,
      "outputs": [
        {
          "output_type": "execute_result",
          "data": {
            "text/plain": [
              "array([0.64102564, 0.94871795])"
            ]
          },
          "metadata": {},
          "execution_count": 19
        }
      ]
    },
    {
      "cell_type": "markdown",
      "source": [
        "new let's repeat the process 5 times and see what happens"
      ],
      "metadata": {
        "id": "-Y2_lBdfhscZ"
      }
    },
    {
      "cell_type": "code",
      "source": [
        "for qq in range(5):\n",
        "  b0 = b0new\n",
        "  b1 = b1new\n",
        "  yhat = b0 + b1 * x\n",
        "  residual = y - yhat\n",
        "  b0new = b0 - (-2*residuals).sum()*learning_rate\n",
        "  b1new = b1 - (-2*np.multiply(x, residuals)).sum()*learning_rate\n",
        "  \n"
      ],
      "metadata": {
        "id": "KxIZ69KEhvvy"
      },
      "execution_count": 20,
      "outputs": []
    },
    {
      "cell_type": "code",
      "source": [
        "x0 = 0\n",
        "x1 = 4\n",
        "y0 = b0 + b1 * x0\n",
        "y1 = b0 + b1 * x1\n",
        "plt.scatter(x, y)\n",
        "plt.plot([x0,x1], [y0, y1], color='red')\n",
        "y0new = b0new + b1new * x0\n",
        "y1new = b0new + b1new * x1\n",
        "plt.plot([x0,x1], [y0new, y1new], color='pink')\n",
        "ax = plt.gca()\n",
        "ax.set_ylim(bottom=0, top=4)\n",
        "ax.set_xlim(left=0, right=4)\n",
        "ax = plt.gca()\n",
        "ax.set_aspect('equal', adjustable='box')\n",
        "plt.show()"
      ],
      "metadata": {
        "colab": {
          "base_uri": "https://localhost:8080/",
          "height": 435
        },
        "id": "wyzaibfsibk3",
        "outputId": "a341ea6e-11c0-4e5b-cc31-b3ab34def548"
      },
      "execution_count": 21,
      "outputs": [
        {
          "output_type": "display_data",
          "data": {
            "text/plain": [
              "<Figure size 640x480 with 1 Axes>"
            ],
            "image/png": "[encoded data removed]"
          },
          "metadata": {}
        }
      ]
    },
    {
      "cell_type": "code",
      "source": [
        "for qq in range(20):\n",
        "  b0 = b0new\n",
        "  b1 = b1new\n",
        "  yhat = b0 + b1 * x\n",
        "  residual = y - yhat\n",
        "  b0new = b0 - (-2*residuals).sum()*learning_rate\n",
        "  b1new = b1 - (-2*np.multiply(x, residuals)).sum()*learning_rate\n",
        "b0 = .5\n",
        "b1 = -.1\n",
        "x0 = 0\n",
        "x1 = 4\n",
        "y0 = b0 + b1 * x0\n",
        "y1 = b0 + b1 * x1\n",
        "plt.scatter(x, y)\n",
        "plt.plot([x0,x1], [y0, y1], color='red')\n",
        "y0new = b0new + b1new * x0\n",
        "y1new = b0new + b1new * x1\n",
        "plt.plot([x0,x1], [y0new, y1new], color='pink')\n",
        "ax = plt.gca()\n",
        "ax.set_ylim(bottom=0, top=4)\n",
        "ax.set_xlim(left=0, right=4)\n",
        "ax = plt.gca()\n",
        "ax.set_aspect('equal', adjustable='box')\n",
        "plt.show()  \n",
        "  \n"
      ],
      "metadata": {
        "colab": {
          "base_uri": "https://localhost:8080/",
          "height": 435
        },
        "id": "q96wag2Diopn",
        "outputId": "1113a179-df45-498e-be67-186fb760db44"
      },
      "execution_count": 22,
      "outputs": [
        {
          "output_type": "display_data",
          "data": {
            "text/plain": [
              "<Figure size 640x480 with 1 Axes>"
            ],
            "image/png": "[encoded data removed]"
          },
          "metadata": {}
        }
      ]
    },
    {
      "cell_type": "code",
      "source": [
        "# Let us make the code a little cleaner\n"
      ],
      "metadata": {
        "id": "iPA63SJ-In_8"
      },
      "execution_count": null,
      "outputs": []
    },
    {
      "cell_type": "markdown",
      "source": [
        "# Let us make the code a little cleaner\n",
        "## Least squares\n",
        "$$\n",
        "\\beta = (X'X)^{-1}X'y\n",
        "$$"
      ],
      "metadata": {
        "id": "Ojfr_dZgIrgN"
      }
    },
    {
      "cell_type": "code",
      "source": [
        "betas = np.dot((np.dot(np.linalg.inv(np.dot(A.T,A)),A.T)),y)\n",
        "print(betas)"
      ],
      "metadata": {
        "colab": {
          "base_uri": "https://localhost:8080/"
        },
        "id": "nmzHqbGEJC1H",
        "outputId": "b6bc9342-3e91-46ca-ca52-7c8a3a5bbdcd"
      },
      "execution_count": 54,
      "outputs": [
        {
          "output_type": "stream",
          "name": "stdout",
          "text": [
            "[0.64102564 0.94871795]\n"
          ]
        }
      ]
    },
    {
      "cell_type": "markdown",
      "source": [
        "## Gradient descent converging"
      ],
      "metadata": {
        "id": "qw1XMQESJNOu"
      }
    },
    {
      "cell_type": "code",
      "source": [
        "bv = np.ones(A.shape[1])\n",
        "for i in range(500):\n",
        "  bv = bv - (-2) * np.dot(y - np.dot(A, bv), A) * .01\n",
        "print(bv)"
      ],
      "metadata": {
        "colab": {
          "base_uri": "https://localhost:8080/"
        },
        "id": "tSG70F2vJIcj",
        "outputId": "c5702107-c7fd-4da7-cdfc-d92a3b528154"
      },
      "execution_count": 55,
      "outputs": [
        {
          "output_type": "stream",
          "name": "stdout",
          "text": [
            "[0.64114259 0.94844347]\n"
          ]
        }
      ]
    }
  ]
}